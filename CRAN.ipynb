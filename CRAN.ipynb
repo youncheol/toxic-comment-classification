{
 "cells": [
  {
   "cell_type": "code",
   "execution_count": 1,
   "metadata": {},
   "outputs": [
    {
     "name": "stderr",
     "output_type": "stream",
     "text": [
      "/Users/youncheol/anaconda3/lib/python3.6/site-packages/h5py/__init__.py:34: FutureWarning: Conversion of the second argument of issubdtype from `float` to `np.floating` is deprecated. In future, it will be treated as `np.float64 == np.dtype(float).type`.\n",
      "  from ._conv import register_converters as _register_converters\n"
     ]
    }
   ],
   "source": [
    "import tensorflow as tf\n",
    "import numpy as np\n",
    "\n",
    "# tf.enable_eager_execution()\n",
    "# tf.executing_eagerly()"
   ]
  },
  {
   "cell_type": "code",
   "execution_count": 5,
   "metadata": {},
   "outputs": [],
   "source": [
    "sequence_length = 10\n",
    "embedding_dim = 100\n",
    "filter_size = 3\n",
    "num_of_filters = 50\n",
    "batch_size = 16\n",
    "class_num = 6\n",
    "\n",
    "## Input Vector Matrices\n",
    "word_vector = np.random.randint(0, 10, size=(batch_size, 10, 100))\n",
    "inputs = word_vector.astype('float32')\n",
    "\n",
    "tf.reset_default_graph()\n",
    "\n",
    "with tf.variable_scope('cnn_attention'):\n",
    "    input_reshaped = tf.reshape(inputs, [-1, sequence_length, embedding_dim, 1])\n",
    "    paddings = tf.constant([[0, 0], [1, 1], [0, 0], [0, 0]], dtype='int32')\n",
    "    input_padded = tf.pad(input_reshaped, paddings, 'CONSTANT')\n",
    "    \n",
    "    filter_shape = [filter_size, embedding_dim, 1, num_of_filters]\n",
    "    \n",
    "    w = tf.get_variable('cnn_filter', \n",
    "                        shape=filter_shape, \n",
    "                        initializer=tf.truncated_normal_initializer(stddev=0.1))\n",
    "    \n",
    "    b = tf.get_variable('cnn_bias',\n",
    "                        shape=[num_of_filters],\n",
    "                        initializer=tf.constant_initializer(0.0))\n",
    "    \n",
    "    conv = tf.nn.conv2d(input=input_padded, \n",
    "                        filter=w, \n",
    "                        strides=[1, 1, 1, 1], \n",
    "                        padding='VALID',\n",
    "                        name='convolution')\n",
    "    \n",
    "    c = tf.nn.relu(tf.nn.bias_add(conv, b), name='relu')\n",
    "    c = tf.reduce_mean(tf.transpose(tf.squeeze(c), perm=[0, 2, 1]), \n",
    "                       axis=1, \n",
    "                       name='average_across_filter')\n",
    "    \n",
    "    \n",
    "with tf.variable_scope('lstm_unit'):\n",
    "    lstm_cell = tf.nn.rnn_cell.BasicLSTMCell(100)\n",
    "    lstm_cell = tf.nn.rnn_cell.DropoutWrapper(lstm_cell, output_keep_prob=0.5)\n",
    "    h, _ = tf.nn.dynamic_rnn(lstm_cell, inputs, dtype=tf.float32)\n",
    "    \n",
    "    \n",
    "with tf.variable_scope('make_output'):    \n",
    "    c = tf.expand_dims(c, axis=2)\n",
    "    s = tf.reduce_mean(tf.multiply(h, c), axis=1)\n",
    "    \n",
    "    w = tf.get_variable('output_weights', \n",
    "                        shape=[embedding_dim, class_num], \n",
    "                        initializer=tf.truncated_normal_initializer(stddev=0.1))\n",
    "    \n",
    "    b = tf.get_variable('output_bias',\n",
    "                        shape=[class_num],\n",
    "                        initializer=tf.constant_initializer(0.0))\n",
    "    \n",
    "    p = tf.nn.bias_add(tf.matmul(s, w), b)"
   ]
  },
  {
   "cell_type": "code",
   "execution_count": 6,
   "metadata": {},
   "outputs": [
    {
     "name": "stdout",
     "output_type": "stream",
     "text": [
      "(16, 10, 1)\n",
      "(100, 6)\n",
      "(16, 100)\n",
      "(16, 6)\n"
     ]
    }
   ],
   "source": [
    "with tf.Session() as sess:\n",
    "    sess.run(tf.global_variables_initializer())\n",
    "    sess.run(tf.local_variables_initializer())\n",
    "    \n",
    "    context = sess.run(c)\n",
    "    wt = sess.run(W)\n",
    "    output = sess.run(s)\n",
    "    pp = sess.run(p)\n",
    "\n",
    "    print(context.shape)\n",
    "    print(wt.shape)\n",
    "    print(output.shape)\n",
    "    print(p.shape)"
   ]
  }
 ],
 "metadata": {
  "kernelspec": {
   "display_name": "Python [default]",
   "language": "python",
   "name": "python3"
  },
  "language_info": {
   "codemirror_mode": {
    "name": "ipython",
    "version": 3
   },
   "file_extension": ".py",
   "mimetype": "text/x-python",
   "name": "python",
   "nbconvert_exporter": "python",
   "pygments_lexer": "ipython3",
   "version": "3.6.3"
  }
 },
 "nbformat": 4,
 "nbformat_minor": 2
}
