{
 "cells": [
  {
   "cell_type": "code",
   "execution_count": 41,
   "metadata": {},
   "outputs": [],
   "source": [
    "import pandas as pd\n",
    "from langdetect import detect\n",
    "import re"
   ]
  },
  {
   "cell_type": "code",
   "execution_count": 2,
   "metadata": {},
   "outputs": [],
   "source": [
    "train = pd.read_csv(\"data/train.csv\")"
   ]
  },
  {
   "cell_type": "code",
   "execution_count": 3,
   "metadata": {},
   "outputs": [
    {
     "data": {
      "text/html": [
       "<div>\n",
       "<style>\n",
       "    .dataframe thead tr:only-child th {\n",
       "        text-align: right;\n",
       "    }\n",
       "\n",
       "    .dataframe thead th {\n",
       "        text-align: left;\n",
       "    }\n",
       "\n",
       "    .dataframe tbody tr th {\n",
       "        vertical-align: top;\n",
       "    }\n",
       "</style>\n",
       "<table border=\"1\" class=\"dataframe\">\n",
       "  <thead>\n",
       "    <tr style=\"text-align: right;\">\n",
       "      <th></th>\n",
       "      <th>id</th>\n",
       "      <th>comment_text</th>\n",
       "      <th>toxic</th>\n",
       "      <th>severe_toxic</th>\n",
       "      <th>obscene</th>\n",
       "      <th>threat</th>\n",
       "      <th>insult</th>\n",
       "      <th>identity_hate</th>\n",
       "    </tr>\n",
       "  </thead>\n",
       "  <tbody>\n",
       "    <tr>\n",
       "      <th>159566</th>\n",
       "      <td>ffe987279560d7ff</td>\n",
       "      <td>\":::::And for the second time of asking, when ...</td>\n",
       "      <td>0</td>\n",
       "      <td>0</td>\n",
       "      <td>0</td>\n",
       "      <td>0</td>\n",
       "      <td>0</td>\n",
       "      <td>0</td>\n",
       "    </tr>\n",
       "    <tr>\n",
       "      <th>159567</th>\n",
       "      <td>ffea4adeee384e90</td>\n",
       "      <td>You should be ashamed of yourself \\n\\nThat is ...</td>\n",
       "      <td>0</td>\n",
       "      <td>0</td>\n",
       "      <td>0</td>\n",
       "      <td>0</td>\n",
       "      <td>0</td>\n",
       "      <td>0</td>\n",
       "    </tr>\n",
       "    <tr>\n",
       "      <th>159568</th>\n",
       "      <td>ffee36eab5c267c9</td>\n",
       "      <td>Spitzer \\n\\nUmm, theres no actual article for ...</td>\n",
       "      <td>0</td>\n",
       "      <td>0</td>\n",
       "      <td>0</td>\n",
       "      <td>0</td>\n",
       "      <td>0</td>\n",
       "      <td>0</td>\n",
       "    </tr>\n",
       "    <tr>\n",
       "      <th>159569</th>\n",
       "      <td>fff125370e4aaaf3</td>\n",
       "      <td>And it looks like it was actually you who put ...</td>\n",
       "      <td>0</td>\n",
       "      <td>0</td>\n",
       "      <td>0</td>\n",
       "      <td>0</td>\n",
       "      <td>0</td>\n",
       "      <td>0</td>\n",
       "    </tr>\n",
       "    <tr>\n",
       "      <th>159570</th>\n",
       "      <td>fff46fc426af1f9a</td>\n",
       "      <td>\"\\nAnd ... I really don't think you understand...</td>\n",
       "      <td>0</td>\n",
       "      <td>0</td>\n",
       "      <td>0</td>\n",
       "      <td>0</td>\n",
       "      <td>0</td>\n",
       "      <td>0</td>\n",
       "    </tr>\n",
       "  </tbody>\n",
       "</table>\n",
       "</div>"
      ],
      "text/plain": [
       "                      id                                       comment_text  \\\n",
       "159566  ffe987279560d7ff  \":::::And for the second time of asking, when ...   \n",
       "159567  ffea4adeee384e90  You should be ashamed of yourself \\n\\nThat is ...   \n",
       "159568  ffee36eab5c267c9  Spitzer \\n\\nUmm, theres no actual article for ...   \n",
       "159569  fff125370e4aaaf3  And it looks like it was actually you who put ...   \n",
       "159570  fff46fc426af1f9a  \"\\nAnd ... I really don't think you understand...   \n",
       "\n",
       "        toxic  severe_toxic  obscene  threat  insult  identity_hate  \n",
       "159566      0             0        0       0       0              0  \n",
       "159567      0             0        0       0       0              0  \n",
       "159568      0             0        0       0       0              0  \n",
       "159569      0             0        0       0       0              0  \n",
       "159570      0             0        0       0       0              0  "
      ]
     },
     "execution_count": 3,
     "metadata": {},
     "output_type": "execute_result"
    }
   ],
   "source": [
    "train.tail()"
   ]
  },
  {
   "cell_type": "code",
   "execution_count": 49,
   "metadata": {},
   "outputs": [],
   "source": [
    "cnt = 0\n",
    "comment_list = []\n",
    "\n",
    "pattern = re.compile('REDIRECT Talk:')\n",
    "\n",
    "for i in range(len(train.comment_text)):\n",
    "    if '(UTC)' in train.comment_text[i]:\n",
    "        comment_list.append(i)\n",
    "        cnt += 1\n",
    "        \n",
    "    if cnt > 10:\n",
    "        break"
   ]
  },
  {
   "cell_type": "code",
   "execution_count": 46,
   "metadata": {},
   "outputs": [
    {
     "data": {
      "text/plain": [
       "['13:0', '18-9']"
      ]
     },
     "execution_count": 46,
     "metadata": {},
     "output_type": "execute_result"
    }
   ],
   "source": [
    "string = 'fadhfkalgjkalfjakl;fjkald 13:0 fafj 18-9 akl;f'\n",
    "time_pattern = re.compile('[0-9]+:[0-9]+')\n",
    "\n",
    "re.findall(time_pattern, string)"
   ]
  },
  {
   "cell_type": "code",
   "execution_count": 75,
   "metadata": {},
   "outputs": [],
   "source": [
    "date_pattern = re.compile('[0-9]+\\s\\w+\\s[0-9]+\\s\\(UTC\\)')\n",
    "time_pattern = re.compile('[0-9]+:[0-9]+')\n",
    "ip_pattern = re.compile('[0-9]+\\.[0-9]+\\.[0-9]+\\.[0-9]+')\n",
    "fname_pattern = re.compile('.+\\.jpg|.+\\.jpeg|.+\\.png')"
   ]
  },
  {
   "cell_type": "code",
   "execution_count": 96,
   "metadata": {},
   "outputs": [],
   "source": [
    "def cleaning_text(text):\n",
    "    text = text.lower()\n",
    "    text = re.sub('\\n', ' ', text)\n",
    "    text = re.sub('redirect talk:', '', text)\n",
    "    text = re.sub('\\(talk\\)', '', text)\n",
    "    text = re.sub('\\(talk\\|email\\)', '', text)\n",
    "    text = re.sub('\\(talk • contribs • \\)', '', text)\n",
    "    text = re.sub('[0-9]+\\s\\w+\\s[0-9]+\\s\\(utc\\)', '', text)\n",
    "    text = re.sub('[0-9]+:[0-9]+', '', text)\n",
    "    text = re.sub('[0-9]+\\.[0-9]+\\.[0-9]+\\.[0-9]+', '', text)\n",
    "    text = re.sub('https?://[^\\s]+', ' ', text)\n",
    "    text = re.sub('.+\\.jpg|.+\\.jpeg|.+\\.png', ' ', text)\n",
    "    return text.strip()"
   ]
  },
  {
   "cell_type": "code",
   "execution_count": 97,
   "metadata": {},
   "outputs": [
    {
     "name": "stdout",
     "output_type": "stream",
     "text": [
      "explanation why the edits made under my username hardcore metallica fan were reverted? they weren't vandalisms, just closure on some gas after i voted at new york dolls fac. and please don't remove the template from the talk page since i'm retired now.\n",
      "********************\n",
      "d'aww! he matches this background colour i'm seemingly stuck with. thanks.   , january 11, 2016 (utc)\n",
      "********************\n",
      "hey man, i'm really not trying to edit war. it's just that this guy is constantly removing relevant information and talking to me through edits instead of my talk page. he seems to care more about the formatting than the actual info.\n",
      "********************\n",
      "\" more i can't make any real suggestions on improvement - i wondered if the section statistics should be later on, or a subsection of \"\"types of accidents\"\"  -i think the references may need tidying so that they are all in the exact same format ie date format etc. i can do that later on, if no-one else does first - if you have any preferences for formatting style on references or want to do it yourself please let me know.  there appears to be a backlog on articles for review so i guess there may be a delay until a reviewer turns up. it's listed in the relevant form eg wikipedia:good_article_nominations#transport  \"\n",
      "********************\n",
      "you, sir, are my hero. any chance you remember what page that's on?\n",
      "********************\n",
      "\"  congratulations from me as well, use the tools well.  · talk \"\n",
      "********************\n",
      "cocksucker before you piss around on my work\n",
      "********************\n",
      "your vandalism to the matt shirvington article has been reverted.  please don't do it again, or you will be banned.\n",
      "********************\n",
      "sorry if the word 'nonsense' was offensive to you. anyway, i'm not intending to write anything in the article(wow they would jump on me for vandalism), i'm merely requesting that it be more encyclopedic so one can use it for school as a reference. i have been to the selective breeding page but it's almost a stub. it points to 'animal breeding' which is a short messy article that gives you no info. there must be someone around with expertise in eugenics?\n",
      "********************\n",
      "alignment on this subject and which are contrary to those of dulithgow\n",
      "********************\n",
      ". i noticed that the file's description page currently doesn't specify who created the content, so the copyright status is unclear. if you did not create this file yourself, then you will need to specify the owner of the copyright. if you obtained it from a website, then a link to the website from which it was taken, together with a restatement of that website's terms of use of its content, is usually sufficient information. however, if the copyright holder is different from the website's publisher, then their copyright should also be acknowledged.  as well as adding the source, please add a proper copyright licensing tag if the file doesn't have one already. if you created/took the picture, audio, or video then the  tag can be used to release it under the gfdl. if you believe the media meets the criteria at wikipedia:fair use, use a tag such as  or one of the other tags listed at wikipedia:image copyright tags#fair use. see wikipedia:image copyright tags for the full list of copyright tags that you can use.  if you have uploaded other files, consider checking that you have specified their source and tagged them, too. you can find a list of files you have uploaded by following [ this link]. unsourced and untagged images may be deleted one week after they have been tagged, as described on criteria for speedy deletion. if the image is copyrighted under a non-free license (per wikipedia:fair use) then the image will be deleted 48 hours after . if you have any questions please ask them at the media copyright questions page. thank you.  \"\n",
      "********************\n",
      "bbq   be a man and lets discuss it-maybe over the phone?\n",
      "********************\n",
      "hey... what is it.. @ | talk . what is it... an exclusive group of some wp talibans...who are good at destroying, self-appointed purist who gang up any one who asks them questions abt their anti-social and destructive (non)-contribution at wp?  ask sityush to clean up his behavior than issue me nonsensical warnings...\n",
      "********************\n",
      "before you start throwing accusations and warnings at me, lets review the edit itself-making ad hominem attacks isn't going to strengthen your argument, it will merely make it look like you are abusing your power as an admin.  now, the edit itself is relevant-this is probably the single most talked about event int he news as of late. his absence is notable, since he is the only living ex-president who did not attend. that's certainly more notable than his dedicating an aircracft carrier.  i intend to revert this edit, in hopes of attracting the attention of an admin that is willing to look at the issue itself, and not throw accusations around quite so liberally. perhaps, if you achieve a level of civility where you can do this, we can have a rational discussion on the topic and resolve the matter peacefully.\n",
      "********************\n",
      "oh, and the girl above started her arguments with me. she stuck her nose where it doesn't belong. i believe the argument was between me and yvesnimmo. but like i said, the situation was settled and i apologized. thanks,\n",
      "********************\n",
      "\"  juelz santanas age  in 2002, juelz santana was 18 years old, then came february 18th, which makes juelz turn 19 making songs with the diplomats. the third neff to be signed to cam's label under roc a fella. in 2003, he was 20 years old coming out with his own singles \"\"santana's town\"\" and \"\"down\"\". so yes, he is born in 1983. he really is, how could he be older then lloyd banks? and how could he be 22 when his birthday passed? the homie neff is 23 years old. 1983 - 2006 (juelz death, god forbid if your thinking about that) equals 23. go to your caculator and stop changing his year of birth. my god.\"\n",
      "********************\n",
      "bye!   don't look, come or think of comming back! tosser.\n",
      "********************\n",
      "voydan pop georgiev- chernodrinski\n",
      "********************\n",
      "the mitsurugi point made no sense - why not argue to include hindi on ryo sakazaki's page to include more information?\n",
      "********************\n",
      "don't mean to bother you   i see that you're writing something regarding removing anything posted here and if you do oh well but if not and you can acctually discuss this with me then even better.  i'd like to ask you to take a closer look at the premature wrestling deaths catagory and the men listed in it, surely these men belong together in some catagory. is there anything that you think we can do with the catagory besides delting it?\n",
      "********************\n",
      "\"   regarding your recent edits   once again, please read wp:filmplot before editing any more film articles.  your edits are simply not good, with entirely too many unnecessary details and very bad writing.  please stop before you do further damage. -''''''the '45 \"\n",
      "********************\n",
      "\" good to know. about me, yeah, i'm studying now.(deepu) \"\n",
      "********************\n",
      "\"   snowflakes are not always symmetrical!   under geometry it is stated that \"\"a snowflake always has six symmetric arms.\"\" this assertion is simply not true! according to kenneth libbrecht, \"\"the rather unattractive irregular crystals are by far the most common variety.\"\"   someone really need to take a look at his site and get facts off of it because i still see a decent number of falsities on this page. (forgive me im new at this and dont want to edit anything)\"\n",
      "********************\n",
      "\"   the signpost: 24 september 2012    read this signpost in full  single-page  unsubscribe     \"\n",
      "********************\n",
      "\"  re-considering 1st paragraph edit? i don't understand the reasons for 's recent edit of this article  not that i'm sure that the data are necessarily \"\"wrong.\"\"  rather, i'm persuaded that the strategy of introducing academic honors in the first paragraph is an unhelpful approach to this specific subject.  i note that articles about other sitting justices have been similarly \"\"enhanced;\"\" and i also believe those changes are no improvement.    in support of my view that this edit should be reverted, i would invite anyone to re-visit articles written about the following pairs of jurists.  a1. benjamin cardozo  a2. learned hand   b1. john marshall harlan  b2. john marshall harlan ii  the question becomes: would the current version of the wikipedia article about any one of them  or either pair  be improved by academic credentials in the introductory paragraph?  i think not.  perhaps it helps to repeat a wry argument kathleen sullivan of stanford law makes when she suggests that some on the harvard law faculty wonder how antonin scalia avoided learning what others have managed to grasp about the processes of judging?  i would hope this anecdote gently illustrates the point.   less humorous, but an even stronger argument is the one clarence thomas makes when he mentions wanting to return his law degree to yale.  at a minimum, i'm questioning this edit?  it deserves to be reconsidered.   \"\n",
      "********************\n",
      "radial symmetry   several now extinct lineages included in the echinodermata were bilateral such as homostelea, or even asymmetrical such as cothurnocystis (stylophora).  -\n",
      "********************\n",
      "there's no need to apologize. a wikipedia article is made for reconciling knowledge about a subject from different sources, and you've done history studies and not archaeology studies, i guess. i could scan the page, e-mail it to you, and then you could ask someone to translate the page.\n",
      "********************\n",
      "yes, because the mother of the child in the case against michael jackson was studied in here motives and reasonings and judged upon her character just as harshly as wacko jacko himself.  don't tell me to ignore it and incriminate myself.  i am going to continue refuting the bullshit that jayjg keeps throwing at me.   ,\n",
      "********************\n",
      "\" ok. but it will take a bit of work but i can't quite picture it. do you have an example i can base it on?  the duck \"\n",
      "********************\n",
      "\"== a barnstar for you! ==    the real life barnstar lets us be the stars    \"\n",
      "********************\n",
      "how could i post before the block expires?  the funny thing is, you think i'm being uncivil!\n",
      "********************\n"
     ]
    }
   ],
   "source": [
    "cnt = 0\n",
    "\n",
    "for i in range(len(train.comment_text)):\n",
    "    comment = cleaning_text(train.comment_text[i])\n",
    "    print(comment)\n",
    "    print('*' * 20)\n",
    "    cnt += 1\n",
    "        \n",
    "    if cnt > 30:\n",
    "        break"
   ]
  },
  {
   "cell_type": "code",
   "execution_count": 77,
   "metadata": {},
   "outputs": [
    {
     "name": "stdout",
     "output_type": "stream",
     "text": [
      "\"== TfD nomination of Template:SilentRedirect ==\n",
      "\n",
      "Template:SilentRedirect has been nominated for deletion. You are invited to comment on the discussion at Wikipedia:Templates for deletion#Template:SilentRedirect. Thank you.   | (talk) \n",
      "\n",
      " Watermarks \n",
      "\n",
      "I shall remove the obvious ones, the less obvious ones stay. I am allowed to watermark images with anything whatsoever I wish to, even if it's a contradiction, and if you wish me to use up further WP  bandwidth by re-uploading them, that has no effect on me. I can't do anything until this evening, and if any get deleted, I shall reupload them. Yours without respect (talk|email) \n",
      "You could have the grace to reply. I said that I'd deal with them this evening, but only the ones where the watermark is visible from the page. So *** off (talk|email) \n",
      "I am planning to re-upload them with less obtrusive watermarks, such as that on Image:Bliss parody.jpg. (talk|email) \n",
      "It wasn't vandalism; I used an external link as per your instructions, which incidentally I'm not bound to follow. I am certainly on the verge of requesting mediation, as you are disrupting my life, never mind WP, to make a point. I will tell you one more time: any images are better than none. If you wish to get your own pix of all the concerned images, you're damn welcome to try, but they are GFDL therefore there's no grounds for removal. (talk|email) \n",
      "PS - I shall add the external link again, not as an image, and if you remove it I shall make a formal complaint to the Wikimedia Foundation, and the Information Commissioner in London. (talk|email) \n",
      "\n",
      ", your conduct is a little off in this matter. While I'm all for discussing the issues with users, let's keep it civil please? Thanks.  (talk) \n",
      "\n",
      " I disagree, Rob - it is far more than \"\"a little\"\" off. Images watermarked as such are not in any way appropriate for Wikipedia. This is an encyclopædia, not a pet image project. If \"\"TheDoctor10\"\" isn't happy to play ball, he can go elsewhere.\n",
      "  (talk) \n",
      "\n",
      "I am proposing a change to the image use policy to forbid watermarked images. Please voice an opinion at Wikipedia_talk:Image_use_policy#User-created_images -Thanks - talk \n",
      "\n",
      "I edit from the United Kingdom, and under the 1990 Computer Misuse Act, the editing of information online is illegal, without permission. The button at the top of every page that says \"\"Edit this page\"\", among other things, constitutes that permission, while the policies and guidelines form conditions. Since there is no condition against my image, it has a legal right to be there. Q.E.D. (talk|email) \n",
      "True, but therefore your addition fails under the same logic. Also, Wikimedia own the servers, it's their right to delete it. 13ID:540053 \n",
      "Apologies to Ed for invading his talk page, but what a load of rubbish! Wikipedia are under no legal obligation whatsoever to host your images, regardless of whether they meet any policy. I have no idea under what flawed logic you presume that the fact you can edit Wikipedia means that your edits must legally be accepted. If the Computer Misuse Act states that the editing of information online is illegal without permission, that implies that editing with permission is legal, and nothing more. Furthermore, by your logic, I have the legal right to edit Wikipedia, and remove your images... I fail to see what on earth you intend to tell your lawyer, but I don't imagine the Wikimedia board are too concerned... └''''''/talk┐ \n",
      "\n",
      "Ignoring the gibberish i\n",
      "********************\n",
      "\"\n",
      "OK, I've sent: Please may Wikipedia (www.wikipedia.org) use a mix of the new, Murray Gold, Middle 8 and the regular theme on their article on Doctor Who theme music (en.wikipedia.org/wiki/Doctor_Who_theme_music)? It is quite long, but \"\"gets the atmosphere across\"\". Wikipedia is a project often linked to from BBC News articles, and occasionally the subject of them (news.bbc.co.uk/1/hi/technology/4534712.stm). Please reply, A Nonymous. (talk|email) \"\n",
      "********************\n",
      "Feb 10 \n",
      "\n",
      " (talk|email)\n",
      "********************\n",
      "OK, I shall do so in the morning, or if you want, you can, since you probably won't beleive me if I say that they said yes. (talk|email)\n",
      "********************\n",
      "Yep, definitely Jacobs.00 (talk|email)\n",
      "********************\n",
      "It would be polite to, yes. (talk|email)\n",
      "********************\n",
      "Shall I ask the Beeb's permission, then? (talk|email)\n",
      "********************\n",
      "I said that it's a mix of the various bits, anyway, I'm sure we'll email back and fourth a few times before I get permission, so I'll tell then if they specifically ask. However, I feel that it's still fair use. (talk|email)\n",
      "********************\n",
      "Ignoring the gibberish immediately above this, I must compliment you on your sense of humour - in fact the reason I didn't reply immediately was that I was at my local hospital's emergency room having my sides stitched back together. (talk|email)\n",
      "********************\n",
      "\"WikiThanks.png]] Hi Dan, thank you for voting in support of my RFA; the result was (28-0-0 ). I hope that I am able to fulfil the expectations of an admin. If you see me mess up anywhere, have any concerns, please don't hesitate to tell me! Take care.  (Talk) \n",
      "\n",
      "PS: Hope Wikinews is going well.\n",
      "\n",
      " RC patrolling response \n",
      "What I've been doing the past few days actually is monitoring the new articles page. I only found out about the RC IRC dump tonight, so yes, that's what I've been doing. -)  \n",
      "Then again, how'd you notice?  \n",
      "\n",
      " Great job \n",
      "\n",
      "  I award this Barnstar to Dan100 for your great job doing just about all patrolling in #wikipedia-en-vandalism for a while. Doing a great job with no one else patrolling most of the time. Doing a lot at time and beating me to reverting vandalism as well during this time as well  Talk [/w/index.php?title=User_talk:Adam1213&action;=edit&section;=new +] \n",
      "\n",
      " {{test}} \n",
      "\n",
      "Hi, this IP (194.154.22.51) is registered to Tiffin Boys' School  and I got the message despite not having vandalised, but I'll \"\"have a word\"\" with the people in the IT rooms who may have done it. Sorry, but pls don't block, as it's used by at least 20ppl. Thanks, JS\n",
      "\n",
      " 209.175.175.11 \n",
      "\n",
      "Could you block them, please? More vandalism to Sarcou...I don't know how to spell it:-) I emailed the abuse email address. (talk|email) \n",
      "No problem. (talk|email) \n",
      "\n",
      " Thanks \n",
      "\n",
      "Thank you watching my back (reverts on my user and talk pages).  \n",
      "\n",
      " Britt Hackemack \n",
      "Hi, I use the IRC RC dump for vandalism monitoring\"\n",
      "********************\n",
      "WP:AIV \n",
      "\n",
      "You'll be blocked now. (talk|email)\n",
      "********************\n"
     ]
    }
   ],
   "source": [
    "cnt = 0\n",
    "\n",
    "for i in range(len(train.comment_text)):\n",
    "    if re.findall('\\(talk\\|email\\)', train.comment_text[i]):\n",
    "        print(train.comment_text[i])\n",
    "        print('*' * 20)\n",
    "        cnt += 1\n",
    "        \n",
    "    if cnt > 10:\n",
    "        break"
   ]
  },
  {
   "cell_type": "code",
   "execution_count": 69,
   "metadata": {},
   "outputs": [
    {
     "data": {
      "text/plain": [
       "[('06', '', '', ', ')]"
      ]
     },
     "execution_count": 69,
     "metadata": {},
     "output_type": "execute_result"
    }
   ],
   "source": [
    "re.findall(pattern, train.comment_text[comment_list[7]])"
   ]
  },
  {
   "cell_type": "code",
   "execution_count": 70,
   "metadata": {},
   "outputs": [
    {
     "data": {
      "text/plain": [
       "\"06, 29 December 2007 (UTC)\\nYep. LOL, the [[Reformist Party (Serbia)|Reformist Party] is having another go (the 20th very last on the parliamentary election, winning less votes than notable to actually be mentioned). ) \\nBy the way, here's something very little people have figured out - the new Constitution of Serbia has been brought to enable Kosovo' secession. The 1990 Constitution barred that as a possibility, and after the Kumanovo Military-Technical Agreement was signed between NATO and FRY the SRS broke its coalition with SPS and the government collapsed, causing new elections - because that was unconstitutional, as an act of highest treason, enough to be tried from maximum sentence (which the Radicals demanded from then to his death, to have a trial in Serbia, and to be tried for treason among other reasons). This constitution releases the authorities from that weight, and they won't have to go to prison if they recognize any form of further loss of sovereignty in Kosovo. ;)   15\""
      ]
     },
     "execution_count": 70,
     "metadata": {},
     "output_type": "execute_result"
    }
   ],
   "source": [
    "train.comment_text[comment_list[7]]"
   ]
  },
  {
   "cell_type": "markdown",
   "metadata": {},
   "source": [
    "* URL\n",
    "* REDIRECT Talk:\n",
    "* (UTC)\n",
    "* IP address\n",
    "* Date, Time\n",
    "* File name"
   ]
  },
  {
   "cell_type": "code",
   "execution_count": 28,
   "metadata": {},
   "outputs": [
    {
     "data": {
      "text/plain": [
       "'http://www.imdb.com/name/nm2551199/filmoseries#tt1327666 71.223.125.139'"
      ]
     },
     "execution_count": 28,
     "metadata": {},
     "output_type": "execute_result"
    }
   ],
   "source": [
    "train.comment_text[6193]"
   ]
  },
  {
   "cell_type": "code",
   "execution_count": 25,
   "metadata": {},
   "outputs": [
    {
     "data": {
      "text/plain": [
       "toxic            1\n",
       "severe_toxic     0\n",
       "obscene          1\n",
       "threat           0\n",
       "insult           0\n",
       "identity_hate    0\n",
       "Name: 1373, dtype: object"
      ]
     },
     "execution_count": 25,
     "metadata": {},
     "output_type": "execute_result"
    }
   ],
   "source": [
    "train.iloc[1373, 2:]"
   ]
  },
  {
   "cell_type": "code",
   "execution_count": 13,
   "metadata": {},
   "outputs": [
    {
     "data": {
      "text/plain": [
       "17         REDIRECT Talk:Voydan Pop Georgiev- Chernodrinski\n",
       "62                        REDIRECT Talk:Frank Herbert Mason\n",
       "87          Oh, it's me vandalising?xD See here. Greetings,\n",
       "146       Azari or Azerbaijani? \\n\\nAzari-iranian,azerba...\n",
       "177          86.29.244.57|86.29.244.57]] 04:21, 14 May 2007\n",
       "351                 Future Perfect at Sunrise|☼]] 14:59, 16\n",
       "358               I'm afraid that's a broken link for me. -\n",
       "592                         REDIRECT Talk:José Manuel Rojas\n",
       "702       Valerie Poxleitner \\n\\nValeri Poxleitner, A.K....\n",
       "758                                  |listas = Manos Family\n",
       "823       Barnes                  Aus     1             ...\n",
       "829                                06:15, 19 Aug 2004 (UTC)\n",
       "852                                 P.S. Are you a /b/tard?\n",
       "886                 Ion G Nemes|talk]]) 04:08, 21 June 2011\n",
       "897                         \"\\nNo problem at all!  (talk) \"\n",
       "899                                     I've just seen that\n",
       "916       \"\\nNo problem. Thanks for letting me know.  (t...\n",
       "917       Batman  \\n\\nI am Batman. You are Spiderman. I ...\n",
       "1015                             WikiDon, STOP stalking me!\n",
       "1083                        Type 3 looks gorgeous )  (talk)\n",
       "1177                              |listas = Schaefer, Nolan\n",
       "1192       \"::I LOL'd hardest at J.delanoy's. P Cobra \\n\\n\"\n",
       "1217                            05 /\\n8: – 08:17, 12 August\n",
       "1230                                  final unblock request\n",
       "1242       \"\\nre this, it looks like Ultrabias/DY71. ^_^  \"\n",
       "1259                                Why I'm talking to you?\n",
       "1307           -Anonymous Anti-Vandalism Vigilant Vigilante\n",
       "1325      Uh oh, somebodies got internet muscles.99.235....\n",
       "1373                       KISS MY DICK \\n\\n...ALL 3 OF YOU\n",
       "1394      REDIRECT Talk:1954–55 Mexican Primera División...\n",
       "                                ...                        \n",
       "158570    STOP POSTING WARNIGN ON MY TALK PAGE ITS FUCKI...\n",
       "158589                                db|my RIGHT to vanish\n",
       "158631                            Screw you.149.254.186.158\n",
       "158670                       No problem!  (talk • contribs)\n",
       "158677                      06:41, September 11, 2005 (UTC)\n",
       "158712                         Emmanuel A. Asiegbu]]  22:41\n",
       "158717    stupid head \\n\\nYOur dumb and you are stupid d...\n",
       "158782                            [by user:Laomei, removed]\n",
       "158884                    \"Sticky Parkin|Parkin]] 17:38, 5\"\n",
       "158965    German Sadchenkov \\n\\nRussian version?))) look...\n",
       "158970    Hi Wikipedia!!Hi Wikipedia!!Hi Wikipedia!!Hi W...\n",
       "158988                  YES. I understand.\\n\\nYES, YES, YES\n",
       "159016    1 Nephi 11:13, 1 Nephi 12:23, 1 Nephi 13:15, 2...\n",
       "159019                   Why don't you do it? 24.68.148.215\n",
       "159032    \"\\n\\n Excellent User Page Award \\n\\n Excellent...\n",
       "159045                                 Shut up, you button!\n",
       "159101                                  Yes, someone can. -\n",
       "159103    OH DEAR OH DEAR, HOW FUKIN SAD. I WILL REGRET ...\n",
       "159187      \"\\n\\n talkback \\n\\nColdplay Expért Let's talk \"\n",
       "159243                               wtf \\n\\n  your a queer\n",
       "159268    Hi Bading \\nPutang ina mong bakla ka. Fuck you...\n",
       "159315    http://www.nysun.com/article/23698 - public in...\n",
       "159330                    I LOVE KATILYN JEWELL!!!! <333333\n",
       "159445                     you gotta let somebody love you.\n",
       "159467                                    (talk • contribs)\n",
       "159493                           FUCKING FAGGOT \\n\\nLOLWAT.\n",
       "159497    I am not a martyr. I am a human, and humans ma...\n",
       "159515                      REDIRECT Talk:Bangkok Bank F.C.\n",
       "159548                          Talkback: 15 September 2012\n",
       "159549                           2005 (UTC)\\n 06:35, 31 Mar\n",
       "Name: comment_text, Length: 4316, dtype: object"
      ]
     },
     "execution_count": 13,
     "metadata": {},
     "output_type": "execute_result"
    }
   ],
   "source": [
    "train.comment_text[not_eng]"
   ]
  }
 ],
 "metadata": {
  "kernelspec": {
   "display_name": "Python [default]",
   "language": "python",
   "name": "python3"
  },
  "language_info": {
   "codemirror_mode": {
    "name": "ipython",
    "version": 3
   },
   "file_extension": ".py",
   "mimetype": "text/x-python",
   "name": "python",
   "nbconvert_exporter": "python",
   "pygments_lexer": "ipython3",
   "version": "3.6.3"
  }
 },
 "nbformat": 4,
 "nbformat_minor": 2
}
